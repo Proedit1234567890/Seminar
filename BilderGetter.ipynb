{
 "cells": [
  {
   "cell_type": "code",
   "execution_count": 1,
   "metadata": {},
   "outputs": [
    {
     "name": "stdout",
     "output_type": "stream",
     "text": [
      "WARNING:tensorflow:From c:\\Program Files\\Python311\\Lib\\site-packages\\keras\\src\\losses.py:2976: The name tf.losses.sparse_softmax_cross_entropy is deprecated. Please use tf.compat.v1.losses.sparse_softmax_cross_entropy instead.\n",
      "\n"
     ]
    },
    {
     "ename": "ValueError",
     "evalue": "could not broadcast input array from shape (225,224,3) into shape (224,224,3)",
     "output_type": "error",
     "traceback": [
      "\u001b[1;31m---------------------------------------------------------------------------\u001b[0m",
      "\u001b[1;31mValueError\u001b[0m                                Traceback (most recent call last)",
      "Cell \u001b[1;32mIn[1], line 44\u001b[0m\n\u001b[0;32m     42\u001b[0m     imgResizeShape \u001b[39m=\u001b[39m imgResize\u001b[39m.\u001b[39mshape\n\u001b[0;32m     43\u001b[0m     hGap \u001b[39m=\u001b[39m math\u001b[39m.\u001b[39mceil((imgSize\u001b[39m-\u001b[39mhCal)\u001b[39m/\u001b[39m\u001b[39m2\u001b[39m)\n\u001b[1;32m---> 44\u001b[0m     imgWhite[hGap:hCal\u001b[39m+\u001b[39;49mhGap,  :] \u001b[39m=\u001b[39m imgResize\n\u001b[0;32m     47\u001b[0m cv2\u001b[39m.\u001b[39mimshow(\u001b[39m\"\u001b[39m\u001b[39mImageCrop\u001b[39m\u001b[39m\"\u001b[39m, imgCrop)\n\u001b[0;32m     48\u001b[0m cv2\u001b[39m.\u001b[39mimshow(\u001b[39m\"\u001b[39m\u001b[39mImagWhite\u001b[39m\u001b[39m\"\u001b[39m, imgWhite)\n",
      "\u001b[1;31mValueError\u001b[0m: could not broadcast input array from shape (225,224,3) into shape (224,224,3)"
     ]
    }
   ],
   "source": [
    "import cv2\n",
    "from cvzone.HandTrackingModule import HandDetector\n",
    "import numpy as np\n",
    "import math\n",
    "import time\n",
    "\n",
    "cap = cv2.VideoCapture(0)\n",
    "detector = HandDetector(maxHands=1)\n",
    "\n",
    "offset = 20\n",
    "imgSize = 224\n",
    "\n",
    "folder = \"D:\\Seminar\\Code\\Data2-Train\\I\"\n",
    "counter = 0\n",
    "\n",
    "while True:\n",
    "    success, img = cap.read()\n",
    "    hands, img = detector.findHands(img)\n",
    "    if hands:\n",
    "        hand = hands[0]\n",
    "        x, y, w, h = hand['bbox']\n",
    "\n",
    "        imgWhite = np.ones((imgSize, imgSize, 3), np.uint8)*255\n",
    "\n",
    "        imgCrop = img[y-offset:y+h+offset,x-offset:x+w+offset]\n",
    "\n",
    "        imgCropShape = imgCrop.shape\n",
    "\n",
    "        aspectRatio = h/w\n",
    "\n",
    "        if aspectRatio >1:\n",
    "            k = imgSize/h\n",
    "            wCal = math.ceil(k*w)\n",
    "            imgResize = cv2.resize(imgCrop, (wCal,imgSize))\n",
    "            imgResizeShape = imgResize.shape\n",
    "            wGap = math.ceil((imgSize-wCal)/2)\n",
    "            imgWhite[:, wGap:wCal+wGap] = imgResize\n",
    "        else:\n",
    "            k = imgSize/w\n",
    "            hCal = math.ceil(k*h)\n",
    "            imgResize = cv2.resize(imgCrop, (imgSize, hCal))\n",
    "            imgResizeShape = imgResize.shape\n",
    "            hGap = math.ceil((imgSize-hCal)/2)\n",
    "            imgWhite[hGap:hCal+hGap,  :] = imgResize\n",
    "\n",
    "\n",
    "        cv2.imshow(\"ImageCrop\", imgCrop)\n",
    "        cv2.imshow(\"ImagWhite\", imgWhite)\n",
    "\n",
    "    cv2.imshow(\"Image\", img)\n",
    "    key = cv2.waitKey(1)\n",
    "    if key == ord(\"s\"):\n",
    "        counter += 1\n",
    "        cv2.imwrite(f'{folder}/Image_{time.time()}.jpg', imgWhite)\n",
    "        print(counter)"
   ]
  },
  {
   "cell_type": "code",
   "execution_count": null,
   "metadata": {},
   "outputs": [],
   "source": []
  }
 ],
 "metadata": {
  "kernelspec": {
   "display_name": "Python 3",
   "language": "python",
   "name": "python3"
  },
  "language_info": {
   "codemirror_mode": {
    "name": "ipython",
    "version": 3
   },
   "file_extension": ".py",
   "mimetype": "text/x-python",
   "name": "python",
   "nbconvert_exporter": "python",
   "pygments_lexer": "ipython3",
   "version": "3.11.0"
  },
  "orig_nbformat": 4
 },
 "nbformat": 4,
 "nbformat_minor": 2
}
